{
 "cells": [
  {
   "cell_type": "code",
   "execution_count": 4,
   "metadata": {},
   "outputs": [
    {
     "name": "stdout",
     "output_type": "stream",
     "text": [
      "BELO OLEB\n",
      "Não é palindromo!\n"
     ]
    }
   ],
   "source": [
    "frase = str(input('Digite uma palavra ou frase: ')).strip().upper()\n",
    "\n",
    "palavras = frase.split()\n",
    "caractere = '-'.join(palavras)\n",
    "\n",
    "fraseinvertida = ''\n",
    "\n",
    "for i in range(len(caractere) -1, -1, -1):\n",
    "    fraseinvertida += caractere[i]\n",
    "\n",
    "print(caractere, fraseinvertida)\n",
    "\n",
    "if fraseinvertida == caractere:\n",
    "    print('É um palindromo!')\n",
    "else:\n",
    "    print('Não é palindromo!')"
   ]
  },
  {
   "cell_type": "code",
   "execution_count": 5,
   "metadata": {},
   "outputs": [
    {
     "name": "stdout",
     "output_type": "stream",
     "text": [
      "cpf: 123.456.789-20\n"
     ]
    }
   ],
   "source": [
    "cpf = input('Digite seu CPF: ').replace('-', '').replace('-', '')\n",
    "print(f'cpf: {cpf[:3]}.{cpf[3:6]}.{cpf[6:9]}-{cpf[9:]}')"
   ]
  },
  {
   "cell_type": "code",
   "execution_count": 7,
   "metadata": {},
   "outputs": [
    {
     "name": "stdout",
     "output_type": "stream",
     "text": [
      "{'Pão': 'R$1,99', 'Açucar': 'R$4,99', 'Café': 'R$15,00', 'Macarrao': 'R$8,00', 'Carne': 'R$40,00'}\n"
     ]
    }
   ],
   "source": [
    "dicionario = dict(\n",
    "    Pão = 'R$1,99',\n",
    "    Açucar = 'R$4,99',\n",
    "    Café = 'R$15,00',\n",
    "    Macarrao = 'R$8,00',\n",
    "    Carne = 'R$40,00',\n",
    ")\n",
    "\n",
    "print (dicionario)"
   ]
  },
  {
   "cell_type": "code",
   "execution_count": 4,
   "metadata": {},
   "outputs": [
    {
     "name": "stdout",
     "output_type": "stream",
     "text": [
      "Código: 101\n",
      "Nome: Chocolate\n",
      "Preço: 5.0\n",
      "Estoque: 10\n",
      "\n",
      "Código: 102\n",
      "Nome: Pão\n",
      "Preço: 16.99\n",
      "Estoque: 100\n",
      "\n",
      "Código: 103\n",
      "Nome: Biscoito\n",
      "Preço: 2.99\n",
      "Estoque: 20\n",
      "\n"
     ]
    },
    {
     "data": {
      "text/plain": [
       "'\\n\\nprint(produtos.values()\\n\\n'"
      ]
     },
     "execution_count": 4,
     "metadata": {},
     "output_type": "execute_result"
    }
   ],
   "source": [
    "# Criando o dicionario de produto\n",
    "produtos = {\n",
    "    101 : {\"Nome\" : \"Chocolate\", \"Preco\" : 5.00, \"estoque\" : 10},\n",
    "    102 : {\"Nome\" : \"Pão\", \"Preco\" : 16.99, \"estoque\" : 100},\n",
    "    103 : {\"Nome\" : \"Biscoito\", \"Preco\" : 2.99, \"estoque\" : 20}\n",
    "}\n",
    "\n",
    "for codigo, info in produtos.items():\n",
    "    print(f'Código: {codigo}')\n",
    "    print(f'Nome: {info['Nome']}')\n",
    "    print(f'Preço: {info['Preco']}')\n",
    "    print(f'Estoque: {info['estoque']}')\n",
    "    print()\n",
    "'''\n",
    "\n",
    "print(produtos.values()\n",
    "\n",
    "'''"
   ]
  },
  {
   "cell_type": "code",
   "execution_count": null,
   "metadata": {},
   "outputs": [],
   "source": [
    "usuarios = ()\n",
    "opcao = []\n",
    "while True:\n",
    "\n",
    "    # Cadastrar Usuario\n",
    "    if opcao == '1':\n",
    "        nome = input('Digite o nome do usuário: ')\n",
    "        idade = input('Digite a idade do usuário: ')\n",
    "        email = input('Digite o e-mail do usuário: ')\n",
    "\n",
    "        usuarios[email] = {'Nome': nome, 'idade': idade}\n",
    "\n",
    "        print(f'Usuário {nome} cadastrado com sucesso!')\n",
    "\n",
    "    # Listar usuários\n",
    "    elif opcao == '2':\n",
    "\n",
    "        print(usuarios)\n",
    "        print"
   ]
  }
 ],
 "metadata": {
  "kernelspec": {
   "display_name": "venv",
   "language": "python",
   "name": "python3"
  },
  "language_info": {
   "codemirror_mode": {
    "name": "ipython",
    "version": 3
   },
   "file_extension": ".py",
   "mimetype": "text/x-python",
   "name": "python",
   "nbconvert_exporter": "python",
   "pygments_lexer": "ipython3",
   "version": "3.12.6"
  }
 },
 "nbformat": 4,
 "nbformat_minor": 2
}
