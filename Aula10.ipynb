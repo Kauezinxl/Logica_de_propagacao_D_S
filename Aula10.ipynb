{
 "cells": [
  {
   "cell_type": "code",
   "execution_count": null,
   "metadata": {},
   "outputs": [],
   "source": [
    "def notas(n1, n2, n3):\n",
    "\n",
    "    media = (n1 + n2 + n3)/3\n",
    "    print(f'a media das notas é {media}')\n",
    "\n",
    "n1 = int(input('digite o valor de sua primeira nota: '))\n",
    "n2 = int(input('digite o valor de sua primeira nota: '))\n",
    "n3 = int(input('digite o valor de sua primeira nota: '))\n",
    "\n",
    "notas(n1, n2, n3)"
   ]
  },
  {
   "cell_type": "code",
   "execution_count": null,
   "metadata": {},
   "outputs": [],
   "source": [
    "def verificacao(n):\n",
    "    \n",
    "    if n % 2 == 0:\n",
    "        print(f'o numero {n} é par!!')\n",
    "    else:\n",
    "        print(f'o numero {n} é impar!!')\n",
    "\n",
    "n = int(input('digite o valor do numero que deseja verificar: '))\n",
    "\n",
    "verificacao(n)"
   ]
  },
  {
   "cell_type": "code",
   "execution_count": null,
   "metadata": {},
   "outputs": [],
   "source": [
    "def filtrar_pares(lista_numeros):\n",
    "    pares = []\n",
    "    for numero in lista_numeros:\n",
    "        if numero % 2 == 0:\n",
    "            pares.append(numero)\n",
    "    return pares\n",
    "\n",
    "lista_numeros = range(1, 20, +1)\n",
    "\n",
    "filtra_pares(lista_numeros)"
   ]
  }
 ],
 "metadata": {
  "language_info": {
   "name": "python"
  }
 },
 "nbformat": 4,
 "nbformat_minor": 2
}
